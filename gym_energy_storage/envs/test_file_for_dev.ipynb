{
 "cells": [
  {
   "cell_type": "code",
   "execution_count": 18,
   "id": "c739ff58",
   "metadata": {},
   "outputs": [],
   "source": [
    "import json\n",
    "import pandas as pd\n",
    "import datetime"
   ]
  },
  {
   "cell_type": "code",
   "execution_count": 6,
   "id": "f05ae05d",
   "metadata": {},
   "outputs": [
    {
     "name": "stdout",
     "output_type": "stream",
     "text": [
      "{'Prob.Neg.Jump': 1.67272112866436, 'Prob.Pos.Jump': 0.851691098190156, 'Exp.Jump.Distr': 0.0492406002472172, 'Est.Mean.Rev': 0.0724555641626977, 'Est.Mean': {'year': ['2015', '2015', '2015', '2015', '2015', '2015', '2015', '2016', '2016', '2016', '2016', '2016', '2016', '2016', '2016', '2016', '2016', '2016', '2016', '2017', '2017', '2017', '2017', '2017', '2017', '2017', '2017', '2017', '2017', '2017', '2017', '2018', '2018', '2018'], 'month': ['6', '7', '8', '9', '10', '11', '12', '1', '2', '3', '4', '5', '6', '7', '8', '9', '10', '11', '12', '1', '2', '3', '4', '5', '6', '7', '8', '9', '10', '11', '12', '1', '2', '3'], 'Mean': [35.1497222222222, 36.0124596774194, 32.9944489247312, 31.6154166666667, 40.1082953020134, 32.3118611111111, 24.6011155913978, 29.8556720430108, 21.1966522988506, 23.5169717362046, 23.8760138888889, 23.0947983870968, 27.8739583333333, 27.9127956989247, 26.7839516129032, 31.265125, 37.396644295302, 37.5539861111111, 40.1454704301075, 54.5287231182796, 38.4911904761905, 31.365598923284, 27.6020555555556, 32.1307392473118, 29.7797777777778, 32.3251344086022, 31.3856182795699, 34.0241527777778, 29.2331409395973, 41.569875, 29.5433064516129, 29.4583198924731, 39.8258779761905, 39.4739732888147]}, 'Est.Std': {'month': [1, 2, 3, 4, 5, 6, 7, 8, 9, 10, 11, 12], 'estimated.monthly.std': [6.71634191807104, 6.12789081945551, 5.53039962946105, 5.01092693390778, 4.64516348607266, 4.48640354208273, 4.55777952035703, 4.84889144875514, 5.31732231222126, 5.89481850432442, 6.49723484829395, 7.03679512941881]}}\n"
     ]
    }
   ],
   "source": [
    "with open('power_price_model.json') as f:\n",
    "    d = json.load(f)\n",
    "    print(d)"
   ]
  },
  {
   "cell_type": "code",
   "execution_count": 7,
   "id": "f4f03275",
   "metadata": {},
   "outputs": [
    {
     "data": {
      "text/plain": [
       "dict"
      ]
     },
     "execution_count": 7,
     "metadata": {},
     "output_type": "execute_result"
    }
   ],
   "source": [
    "type(d)"
   ]
  },
  {
   "cell_type": "code",
   "execution_count": 43,
   "id": "5463d834",
   "metadata": {},
   "outputs": [
    {
     "data": {
      "text/html": [
       "<div>\n",
       "<style scoped>\n",
       "    .dataframe tbody tr th:only-of-type {\n",
       "        vertical-align: middle;\n",
       "    }\n",
       "\n",
       "    .dataframe tbody tr th {\n",
       "        vertical-align: top;\n",
       "    }\n",
       "\n",
       "    .dataframe thead th {\n",
       "        text-align: right;\n",
       "    }\n",
       "</style>\n",
       "<table border=\"1\" class=\"dataframe\">\n",
       "  <thead>\n",
       "    <tr style=\"text-align: right;\">\n",
       "      <th></th>\n",
       "      <th>month</th>\n",
       "      <th>estimated.monthly.std</th>\n",
       "    </tr>\n",
       "  </thead>\n",
       "  <tbody>\n",
       "    <tr>\n",
       "      <th>0</th>\n",
       "      <td>1</td>\n",
       "      <td>6.716342</td>\n",
       "    </tr>\n",
       "    <tr>\n",
       "      <th>1</th>\n",
       "      <td>2</td>\n",
       "      <td>6.127891</td>\n",
       "    </tr>\n",
       "    <tr>\n",
       "      <th>2</th>\n",
       "      <td>3</td>\n",
       "      <td>5.530400</td>\n",
       "    </tr>\n",
       "    <tr>\n",
       "      <th>3</th>\n",
       "      <td>4</td>\n",
       "      <td>5.010927</td>\n",
       "    </tr>\n",
       "    <tr>\n",
       "      <th>4</th>\n",
       "      <td>5</td>\n",
       "      <td>4.645163</td>\n",
       "    </tr>\n",
       "    <tr>\n",
       "      <th>5</th>\n",
       "      <td>6</td>\n",
       "      <td>4.486404</td>\n",
       "    </tr>\n",
       "    <tr>\n",
       "      <th>6</th>\n",
       "      <td>7</td>\n",
       "      <td>4.557780</td>\n",
       "    </tr>\n",
       "    <tr>\n",
       "      <th>7</th>\n",
       "      <td>8</td>\n",
       "      <td>4.848891</td>\n",
       "    </tr>\n",
       "    <tr>\n",
       "      <th>8</th>\n",
       "      <td>9</td>\n",
       "      <td>5.317322</td>\n",
       "    </tr>\n",
       "    <tr>\n",
       "      <th>9</th>\n",
       "      <td>10</td>\n",
       "      <td>5.894819</td>\n",
       "    </tr>\n",
       "    <tr>\n",
       "      <th>10</th>\n",
       "      <td>11</td>\n",
       "      <td>6.497235</td>\n",
       "    </tr>\n",
       "    <tr>\n",
       "      <th>11</th>\n",
       "      <td>12</td>\n",
       "      <td>7.036795</td>\n",
       "    </tr>\n",
       "  </tbody>\n",
       "</table>\n",
       "</div>"
      ],
      "text/plain": [
       "    month  estimated.monthly.std\n",
       "0       1               6.716342\n",
       "1       2               6.127891\n",
       "2       3               5.530400\n",
       "3       4               5.010927\n",
       "4       5               4.645163\n",
       "5       6               4.486404\n",
       "6       7               4.557780\n",
       "7       8               4.848891\n",
       "8       9               5.317322\n",
       "9      10               5.894819\n",
       "10     11               6.497235\n",
       "11     12               7.036795"
      ]
     },
     "execution_count": 43,
     "metadata": {},
     "output_type": "execute_result"
    }
   ],
   "source": [
    "pd.DataFrame(d['Est.Std'])"
   ]
  },
  {
   "cell_type": "code",
   "execution_count": 39,
   "id": "bb2a9ab7",
   "metadata": {},
   "outputs": [
    {
     "data": {
      "text/html": [
       "<div>\n",
       "<style scoped>\n",
       "    .dataframe tbody tr th:only-of-type {\n",
       "        vertical-align: middle;\n",
       "    }\n",
       "\n",
       "    .dataframe tbody tr th {\n",
       "        vertical-align: top;\n",
       "    }\n",
       "\n",
       "    .dataframe thead th {\n",
       "        text-align: right;\n",
       "    }\n",
       "</style>\n",
       "<table border=\"1\" class=\"dataframe\">\n",
       "  <thead>\n",
       "    <tr style=\"text-align: right;\">\n",
       "      <th></th>\n",
       "      <th>year</th>\n",
       "      <th>month</th>\n",
       "      <th>Mean</th>\n",
       "    </tr>\n",
       "  </thead>\n",
       "  <tbody>\n",
       "    <tr>\n",
       "      <th>0</th>\n",
       "      <td>2015</td>\n",
       "      <td>6</td>\n",
       "      <td>35.149722</td>\n",
       "    </tr>\n",
       "    <tr>\n",
       "      <th>1</th>\n",
       "      <td>2015</td>\n",
       "      <td>7</td>\n",
       "      <td>36.012460</td>\n",
       "    </tr>\n",
       "    <tr>\n",
       "      <th>2</th>\n",
       "      <td>2015</td>\n",
       "      <td>8</td>\n",
       "      <td>32.994449</td>\n",
       "    </tr>\n",
       "    <tr>\n",
       "      <th>3</th>\n",
       "      <td>2015</td>\n",
       "      <td>9</td>\n",
       "      <td>31.615417</td>\n",
       "    </tr>\n",
       "    <tr>\n",
       "      <th>4</th>\n",
       "      <td>2015</td>\n",
       "      <td>10</td>\n",
       "      <td>40.108295</td>\n",
       "    </tr>\n",
       "  </tbody>\n",
       "</table>\n",
       "</div>"
      ],
      "text/plain": [
       "   year  month       Mean\n",
       "0  2015      6  35.149722\n",
       "1  2015      7  36.012460\n",
       "2  2015      8  32.994449\n",
       "3  2015      9  31.615417\n",
       "4  2015     10  40.108295"
      ]
     },
     "execution_count": 39,
     "metadata": {},
     "output_type": "execute_result"
    }
   ],
   "source": [
    "test = pd.DataFrame(d['Est.Mean'])\n",
    "test.year = test.year.astype(int)\n",
    "test.month = test.month.astype(int)\n",
    "test.head()"
   ]
  },
  {
   "cell_type": "code",
   "execution_count": 42,
   "id": "1e22b9de",
   "metadata": {},
   "outputs": [
    {
     "data": {
      "text/plain": [
       "35.1497222222222"
      ]
     },
     "execution_count": 42,
     "metadata": {},
     "output_type": "execute_result"
    }
   ],
   "source": [
    "test.loc[(test[\"year\"] == 2015) & (test[\"month\"] == 6), \"Mean\" ][0]"
   ]
  },
  {
   "cell_type": "code",
   "execution_count": null,
   "id": "01540d49",
   "metadata": {},
   "outputs": [],
   "source": []
  },
  {
   "cell_type": "code",
   "execution_count": 25,
   "id": "e6059a51",
   "metadata": {},
   "outputs": [],
   "source": [
    "from datetime import datetime\n",
    "from datetime import timedelta"
   ]
  },
  {
   "cell_type": "code",
   "execution_count": 26,
   "id": "4b1d6ce2",
   "metadata": {},
   "outputs": [],
   "source": [
    "date = datetime.fromisoformat(\"2020-01-01\")"
   ]
  },
  {
   "cell_type": "code",
   "execution_count": 27,
   "id": "7937d0d6",
   "metadata": {},
   "outputs": [
    {
     "data": {
      "text/plain": [
       "datetime.datetime(2020, 1, 1, 0, 0)"
      ]
     },
     "execution_count": 27,
     "metadata": {},
     "output_type": "execute_result"
    }
   ],
   "source": [
    "date"
   ]
  },
  {
   "cell_type": "code",
   "execution_count": 28,
   "id": "c9db05a4",
   "metadata": {},
   "outputs": [
    {
     "data": {
      "text/plain": [
       "datetime.datetime(2020, 1, 1, 1, 0)"
      ]
     },
     "execution_count": 28,
     "metadata": {},
     "output_type": "execute_result"
    }
   ],
   "source": [
    "date + timedelta(hours=1)"
   ]
  },
  {
   "cell_type": "code",
   "execution_count": 29,
   "id": "e387595f",
   "metadata": {},
   "outputs": [
    {
     "data": {
      "text/plain": [
       "1"
      ]
     },
     "execution_count": 29,
     "metadata": {},
     "output_type": "execute_result"
    }
   ],
   "source": [
    "date.month"
   ]
  },
  {
   "cell_type": "code",
   "execution_count": 30,
   "id": "c96cca8a",
   "metadata": {},
   "outputs": [
    {
     "data": {
      "text/plain": [
       "int"
      ]
     },
     "execution_count": 30,
     "metadata": {},
     "output_type": "execute_result"
    }
   ],
   "source": [
    "type(date.month)"
   ]
  },
  {
   "cell_type": "code",
   "execution_count": null,
   "id": "f3fd2682",
   "metadata": {},
   "outputs": [],
   "source": []
  },
  {
   "cell_type": "code",
   "execution_count": null,
   "id": "7dc037e2",
   "metadata": {},
   "outputs": [],
   "source": []
  },
  {
   "cell_type": "code",
   "execution_count": 1,
   "id": "c322b41e",
   "metadata": {},
   "outputs": [],
   "source": [
    "import gym"
   ]
  },
  {
   "cell_type": "code",
   "execution_count": 2,
   "id": "3ac2be07",
   "metadata": {},
   "outputs": [],
   "source": [
    "import gym_energy_storage"
   ]
  },
  {
   "cell_type": "code",
   "execution_count": 3,
   "id": "7291caf0",
   "metadata": {},
   "outputs": [],
   "source": [
    "env = gym.make('energy_storage-v0')"
   ]
  },
  {
   "cell_type": "code",
   "execution_count": 4,
   "id": "f9a0bcb0",
   "metadata": {},
   "outputs": [
    {
     "name": "stdout",
     "output_type": "stream",
     "text": [
      "0.0\n",
      "0.0\n"
     ]
    }
   ],
   "source": [
    "env.reset()\n",
    "print(env.stor_val)\n",
    "print(env.stor_lev)"
   ]
  },
  {
   "cell_type": "code",
   "execution_count": 17,
   "id": "e244e96e",
   "metadata": {},
   "outputs": [
    {
     "name": "stdout",
     "output_type": "stream",
     "text": [
      "Mean: 35.1497222222222\n",
      "std: 4.48640354208273\n",
      "Noise: [4.75965661]\n",
      "Jump stattgefunden: [False]\n",
      "Jump size: [0.]\n",
      "price inc [5.13215144]\n"
     ]
    },
    {
     "data": {
      "text/plain": [
       "([2015, 6, array([35.1408629]), 0.0049999999999455, array([31.60287711])],\n",
       " array([-1.91517636e-11]),\n",
       " False,\n",
       " array([-0.15576668]))"
      ]
     },
     "execution_count": 17,
     "metadata": {},
     "output_type": "execute_result"
    }
   ],
   "source": [
    "env.step(\"up\")"
   ]
  },
  {
   "cell_type": "code",
   "execution_count": 12,
   "id": "72a649a3",
   "metadata": {},
   "outputs": [
    {
     "data": {
      "text/plain": [
       "0.12216622591799998"
      ]
     },
     "execution_count": 12,
     "metadata": {},
     "output_type": "execute_result"
    }
   ],
   "source": [
    "0.00165 * 74.04013692"
   ]
  },
  {
   "cell_type": "code",
   "execution_count": 18,
   "id": "5b0f2489",
   "metadata": {},
   "outputs": [
    {
     "data": {
      "text/plain": [
       "array([67.63188196])"
      ]
     },
     "execution_count": 18,
     "metadata": {},
     "output_type": "execute_result"
    }
   ],
   "source": [
    "env.stor_val"
   ]
  },
  {
   "cell_type": "code",
   "execution_count": 19,
   "id": "e83c20ab",
   "metadata": {},
   "outputs": [
    {
     "data": {
      "text/plain": [
       "0.001485"
      ]
     },
     "execution_count": 19,
     "metadata": {},
     "output_type": "execute_result"
    }
   ],
   "source": [
    "env.stor_lev"
   ]
  },
  {
   "cell_type": "code",
   "execution_count": null,
   "id": "2ab4cb65",
   "metadata": {},
   "outputs": [],
   "source": []
  }
 ],
 "metadata": {
  "kernelspec": {
   "display_name": "Python 3 (ipykernel)",
   "language": "python",
   "name": "python3"
  },
  "language_info": {
   "codemirror_mode": {
    "name": "ipython",
    "version": 3
   },
   "file_extension": ".py",
   "mimetype": "text/x-python",
   "name": "python",
   "nbconvert_exporter": "python",
   "pygments_lexer": "ipython3",
   "version": "3.8.10"
  }
 },
 "nbformat": 4,
 "nbformat_minor": 5
}
