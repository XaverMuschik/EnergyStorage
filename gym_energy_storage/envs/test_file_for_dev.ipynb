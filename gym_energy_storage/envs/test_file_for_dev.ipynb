{
 "cells": [
  {
   "cell_type": "code",
   "execution_count": 18,
   "id": "45c71f13",
   "metadata": {},
   "outputs": [],
   "source": [
    "import json\n",
    "import pandas as pd\n",
    "import datetime"
   ]
  },
  {
   "cell_type": "code",
   "execution_count": 6,
   "id": "0a44aa8e",
   "metadata": {},
   "outputs": [
    {
     "name": "stdout",
     "output_type": "stream",
     "text": [
      "{'Prob.Neg.Jump': 1.67272112866436, 'Prob.Pos.Jump': 0.851691098190156, 'Exp.Jump.Distr': 0.0492406002472172, 'Est.Mean.Rev': 0.0724555641626977, 'Est.Mean': {'year': ['2015', '2015', '2015', '2015', '2015', '2015', '2015', '2016', '2016', '2016', '2016', '2016', '2016', '2016', '2016', '2016', '2016', '2016', '2016', '2017', '2017', '2017', '2017', '2017', '2017', '2017', '2017', '2017', '2017', '2017', '2017', '2018', '2018', '2018'], 'month': ['6', '7', '8', '9', '10', '11', '12', '1', '2', '3', '4', '5', '6', '7', '8', '9', '10', '11', '12', '1', '2', '3', '4', '5', '6', '7', '8', '9', '10', '11', '12', '1', '2', '3'], 'Mean': [35.1497222222222, 36.0124596774194, 32.9944489247312, 31.6154166666667, 40.1082953020134, 32.3118611111111, 24.6011155913978, 29.8556720430108, 21.1966522988506, 23.5169717362046, 23.8760138888889, 23.0947983870968, 27.8739583333333, 27.9127956989247, 26.7839516129032, 31.265125, 37.396644295302, 37.5539861111111, 40.1454704301075, 54.5287231182796, 38.4911904761905, 31.365598923284, 27.6020555555556, 32.1307392473118, 29.7797777777778, 32.3251344086022, 31.3856182795699, 34.0241527777778, 29.2331409395973, 41.569875, 29.5433064516129, 29.4583198924731, 39.8258779761905, 39.4739732888147]}, 'Est.Std': {'month': [1, 2, 3, 4, 5, 6, 7, 8, 9, 10, 11, 12], 'estimated.monthly.std': [6.71634191807104, 6.12789081945551, 5.53039962946105, 5.01092693390778, 4.64516348607266, 4.48640354208273, 4.55777952035703, 4.84889144875514, 5.31732231222126, 5.89481850432442, 6.49723484829395, 7.03679512941881]}}\n"
     ]
    }
   ],
   "source": [
    "with open('power_price_model.json') as f:\n",
    "    d = json.load(f)\n",
    "    print(d)"
   ]
  },
  {
   "cell_type": "code",
   "execution_count": 7,
   "id": "a4435150",
   "metadata": {},
   "outputs": [
    {
     "data": {
      "text/plain": [
       "dict"
      ]
     },
     "execution_count": 7,
     "metadata": {},
     "output_type": "execute_result"
    }
   ],
   "source": [
    "type(d)"
   ]
  },
  {
   "cell_type": "code",
   "execution_count": 43,
   "id": "6d71208d",
   "metadata": {},
   "outputs": [
    {
     "data": {
      "text/html": [
       "<div>\n",
       "<style scoped>\n",
       "    .dataframe tbody tr th:only-of-type {\n",
       "        vertical-align: middle;\n",
       "    }\n",
       "\n",
       "    .dataframe tbody tr th {\n",
       "        vertical-align: top;\n",
       "    }\n",
       "\n",
       "    .dataframe thead th {\n",
       "        text-align: right;\n",
       "    }\n",
       "</style>\n",
       "<table border=\"1\" class=\"dataframe\">\n",
       "  <thead>\n",
       "    <tr style=\"text-align: right;\">\n",
       "      <th></th>\n",
       "      <th>month</th>\n",
       "      <th>estimated.monthly.std</th>\n",
       "    </tr>\n",
       "  </thead>\n",
       "  <tbody>\n",
       "    <tr>\n",
       "      <th>0</th>\n",
       "      <td>1</td>\n",
       "      <td>6.716342</td>\n",
       "    </tr>\n",
       "    <tr>\n",
       "      <th>1</th>\n",
       "      <td>2</td>\n",
       "      <td>6.127891</td>\n",
       "    </tr>\n",
       "    <tr>\n",
       "      <th>2</th>\n",
       "      <td>3</td>\n",
       "      <td>5.530400</td>\n",
       "    </tr>\n",
       "    <tr>\n",
       "      <th>3</th>\n",
       "      <td>4</td>\n",
       "      <td>5.010927</td>\n",
       "    </tr>\n",
       "    <tr>\n",
       "      <th>4</th>\n",
       "      <td>5</td>\n",
       "      <td>4.645163</td>\n",
       "    </tr>\n",
       "    <tr>\n",
       "      <th>5</th>\n",
       "      <td>6</td>\n",
       "      <td>4.486404</td>\n",
       "    </tr>\n",
       "    <tr>\n",
       "      <th>6</th>\n",
       "      <td>7</td>\n",
       "      <td>4.557780</td>\n",
       "    </tr>\n",
       "    <tr>\n",
       "      <th>7</th>\n",
       "      <td>8</td>\n",
       "      <td>4.848891</td>\n",
       "    </tr>\n",
       "    <tr>\n",
       "      <th>8</th>\n",
       "      <td>9</td>\n",
       "      <td>5.317322</td>\n",
       "    </tr>\n",
       "    <tr>\n",
       "      <th>9</th>\n",
       "      <td>10</td>\n",
       "      <td>5.894819</td>\n",
       "    </tr>\n",
       "    <tr>\n",
       "      <th>10</th>\n",
       "      <td>11</td>\n",
       "      <td>6.497235</td>\n",
       "    </tr>\n",
       "    <tr>\n",
       "      <th>11</th>\n",
       "      <td>12</td>\n",
       "      <td>7.036795</td>\n",
       "    </tr>\n",
       "  </tbody>\n",
       "</table>\n",
       "</div>"
      ],
      "text/plain": [
       "    month  estimated.monthly.std\n",
       "0       1               6.716342\n",
       "1       2               6.127891\n",
       "2       3               5.530400\n",
       "3       4               5.010927\n",
       "4       5               4.645163\n",
       "5       6               4.486404\n",
       "6       7               4.557780\n",
       "7       8               4.848891\n",
       "8       9               5.317322\n",
       "9      10               5.894819\n",
       "10     11               6.497235\n",
       "11     12               7.036795"
      ]
     },
     "execution_count": 43,
     "metadata": {},
     "output_type": "execute_result"
    }
   ],
   "source": [
    "pd.DataFrame(d['Est.Std'])"
   ]
  },
  {
   "cell_type": "code",
   "execution_count": 39,
   "id": "106b0303",
   "metadata": {},
   "outputs": [
    {
     "data": {
      "text/html": [
       "<div>\n",
       "<style scoped>\n",
       "    .dataframe tbody tr th:only-of-type {\n",
       "        vertical-align: middle;\n",
       "    }\n",
       "\n",
       "    .dataframe tbody tr th {\n",
       "        vertical-align: top;\n",
       "    }\n",
       "\n",
       "    .dataframe thead th {\n",
       "        text-align: right;\n",
       "    }\n",
       "</style>\n",
       "<table border=\"1\" class=\"dataframe\">\n",
       "  <thead>\n",
       "    <tr style=\"text-align: right;\">\n",
       "      <th></th>\n",
       "      <th>year</th>\n",
       "      <th>month</th>\n",
       "      <th>Mean</th>\n",
       "    </tr>\n",
       "  </thead>\n",
       "  <tbody>\n",
       "    <tr>\n",
       "      <th>0</th>\n",
       "      <td>2015</td>\n",
       "      <td>6</td>\n",
       "      <td>35.149722</td>\n",
       "    </tr>\n",
       "    <tr>\n",
       "      <th>1</th>\n",
       "      <td>2015</td>\n",
       "      <td>7</td>\n",
       "      <td>36.012460</td>\n",
       "    </tr>\n",
       "    <tr>\n",
       "      <th>2</th>\n",
       "      <td>2015</td>\n",
       "      <td>8</td>\n",
       "      <td>32.994449</td>\n",
       "    </tr>\n",
       "    <tr>\n",
       "      <th>3</th>\n",
       "      <td>2015</td>\n",
       "      <td>9</td>\n",
       "      <td>31.615417</td>\n",
       "    </tr>\n",
       "    <tr>\n",
       "      <th>4</th>\n",
       "      <td>2015</td>\n",
       "      <td>10</td>\n",
       "      <td>40.108295</td>\n",
       "    </tr>\n",
       "  </tbody>\n",
       "</table>\n",
       "</div>"
      ],
      "text/plain": [
       "   year  month       Mean\n",
       "0  2015      6  35.149722\n",
       "1  2015      7  36.012460\n",
       "2  2015      8  32.994449\n",
       "3  2015      9  31.615417\n",
       "4  2015     10  40.108295"
      ]
     },
     "execution_count": 39,
     "metadata": {},
     "output_type": "execute_result"
    }
   ],
   "source": [
    "test = pd.DataFrame(d['Est.Mean'])\n",
    "test.year = test.year.astype(int)\n",
    "test.month = test.month.astype(int)\n",
    "test.head()"
   ]
  },
  {
   "cell_type": "code",
   "execution_count": 42,
   "id": "55e0e733",
   "metadata": {},
   "outputs": [
    {
     "data": {
      "text/plain": [
       "35.1497222222222"
      ]
     },
     "execution_count": 42,
     "metadata": {},
     "output_type": "execute_result"
    }
   ],
   "source": [
    "test.loc[(test[\"year\"] == 2015) & (test[\"month\"] == 6), \"Mean\" ][0]"
   ]
  },
  {
   "cell_type": "code",
   "execution_count": null,
   "id": "36926e95",
   "metadata": {},
   "outputs": [],
   "source": []
  },
  {
   "cell_type": "code",
   "execution_count": 25,
   "id": "81dab021",
   "metadata": {},
   "outputs": [],
   "source": [
    "from datetime import datetime\n",
    "from datetime import timedelta"
   ]
  },
  {
   "cell_type": "code",
   "execution_count": 26,
   "id": "2c602487",
   "metadata": {},
   "outputs": [],
   "source": [
    "date = datetime.fromisoformat(\"2020-01-01\")"
   ]
  },
  {
   "cell_type": "code",
   "execution_count": 27,
   "id": "d2698100",
   "metadata": {},
   "outputs": [
    {
     "data": {
      "text/plain": [
       "datetime.datetime(2020, 1, 1, 0, 0)"
      ]
     },
     "execution_count": 27,
     "metadata": {},
     "output_type": "execute_result"
    }
   ],
   "source": [
    "date"
   ]
  },
  {
   "cell_type": "code",
   "execution_count": 28,
   "id": "3a03ee27",
   "metadata": {},
   "outputs": [
    {
     "data": {
      "text/plain": [
       "datetime.datetime(2020, 1, 1, 1, 0)"
      ]
     },
     "execution_count": 28,
     "metadata": {},
     "output_type": "execute_result"
    }
   ],
   "source": [
    "date + timedelta(hours=1)"
   ]
  },
  {
   "cell_type": "code",
   "execution_count": 29,
   "id": "a9137e69",
   "metadata": {},
   "outputs": [
    {
     "data": {
      "text/plain": [
       "1"
      ]
     },
     "execution_count": 29,
     "metadata": {},
     "output_type": "execute_result"
    }
   ],
   "source": [
    "date.month"
   ]
  },
  {
   "cell_type": "code",
   "execution_count": 30,
   "id": "88c85e7e",
   "metadata": {},
   "outputs": [
    {
     "data": {
      "text/plain": [
       "int"
      ]
     },
     "execution_count": 30,
     "metadata": {},
     "output_type": "execute_result"
    }
   ],
   "source": [
    "type(date.month)"
   ]
  },
  {
   "cell_type": "code",
   "execution_count": null,
   "id": "846eeb4b",
   "metadata": {},
   "outputs": [],
   "source": []
  },
  {
   "cell_type": "code",
   "execution_count": null,
   "id": "22285e0a",
   "metadata": {},
   "outputs": [],
   "source": []
  },
  {
   "cell_type": "code",
   "execution_count": 1,
   "id": "29ce1710",
   "metadata": {},
   "outputs": [],
   "source": [
    "import gym"
   ]
  },
  {
   "cell_type": "code",
   "execution_count": 2,
   "id": "daa7bef2",
   "metadata": {},
   "outputs": [],
   "source": [
    "import gym_energy_storage"
   ]
  },
  {
   "cell_type": "code",
   "execution_count": 3,
   "id": "61c41e44",
   "metadata": {},
   "outputs": [
    {
     "ename": "TabError",
     "evalue": "inconsistent use of tabs and spaces in indentation (energy_storage_env.py, line 26)",
     "output_type": "error",
     "traceback": [
      "Traceback \u001b[0;36m(most recent call last)\u001b[0m:\n",
      "  File \u001b[1;32m\"/home/xaver/.local/lib/python3.8/site-packages/IPython/core/interactiveshell.py\"\u001b[0m, line \u001b[1;32m3444\u001b[0m, in \u001b[1;35mrun_code\u001b[0m\n    exec(code_obj, self.user_global_ns, self.user_ns)\n",
      "  File \u001b[1;32m\"/tmp/ipykernel_8876/2596448252.py\"\u001b[0m, line \u001b[1;32m1\u001b[0m, in \u001b[1;35m<module>\u001b[0m\n    env = gym.make('energy_storage-v0')\n",
      "  File \u001b[1;32m\"/home/xaver/Programming/ReinforcementLearning/gym/gym/envs/registration.py\"\u001b[0m, line \u001b[1;32m231\u001b[0m, in \u001b[1;35mmake\u001b[0m\n    return registry.make(id, **kwargs)\n",
      "  File \u001b[1;32m\"/home/xaver/Programming/ReinforcementLearning/gym/gym/envs/registration.py\"\u001b[0m, line \u001b[1;32m127\u001b[0m, in \u001b[1;35mmake\u001b[0m\n    env = spec.make(**kwargs)\n",
      "  File \u001b[1;32m\"/home/xaver/Programming/ReinforcementLearning/gym/gym/envs/registration.py\"\u001b[0m, line \u001b[1;32m87\u001b[0m, in \u001b[1;35mmake\u001b[0m\n    cls = load(self.entry_point)\n",
      "  File \u001b[1;32m\"/home/xaver/Programming/ReinforcementLearning/gym/gym/envs/registration.py\"\u001b[0m, line \u001b[1;32m27\u001b[0m, in \u001b[1;35mload\u001b[0m\n    mod = importlib.import_module(mod_name)\n",
      "  File \u001b[1;32m\"/usr/lib/python3.8/importlib/__init__.py\"\u001b[0m, line \u001b[1;32m127\u001b[0m, in \u001b[1;35mimport_module\u001b[0m\n    return _bootstrap._gcd_import(name[level:], package, level)\n",
      "  File \u001b[1;32m\"<frozen importlib._bootstrap>\"\u001b[0m, line \u001b[1;32m1014\u001b[0m, in \u001b[1;35m_gcd_import\u001b[0m\n",
      "  File \u001b[1;32m\"<frozen importlib._bootstrap>\"\u001b[0m, line \u001b[1;32m991\u001b[0m, in \u001b[1;35m_find_and_load\u001b[0m\n",
      "  File \u001b[1;32m\"<frozen importlib._bootstrap>\"\u001b[0m, line \u001b[1;32m975\u001b[0m, in \u001b[1;35m_find_and_load_unlocked\u001b[0m\n",
      "  File \u001b[1;32m\"<frozen importlib._bootstrap>\"\u001b[0m, line \u001b[1;32m671\u001b[0m, in \u001b[1;35m_load_unlocked\u001b[0m\n",
      "  File \u001b[1;32m\"<frozen importlib._bootstrap_external>\"\u001b[0m, line \u001b[1;32m848\u001b[0m, in \u001b[1;35mexec_module\u001b[0m\n",
      "  File \u001b[1;32m\"<frozen importlib._bootstrap>\"\u001b[0m, line \u001b[1;32m219\u001b[0m, in \u001b[1;35m_call_with_frames_removed\u001b[0m\n",
      "\u001b[0;36m  File \u001b[0;32m\"/home/xaver/Programming/ReinforcementLearning/gym-energy-storage/gym_energy_storage/envs/__init__.py\"\u001b[0;36m, line \u001b[0;32m1\u001b[0;36m, in \u001b[0;35m<module>\u001b[0;36m\u001b[0m\n\u001b[0;31m    from gym_energy_storage.envs.energy_storage_env import EnergyStorageEnv\u001b[0m\n",
      "\u001b[0;36m  File \u001b[0;32m\"/home/xaver/Programming/ReinforcementLearning/gym-energy-storage/gym_energy_storage/envs/energy_storage_env.py\"\u001b[0;36m, line \u001b[0;32m26\u001b[0m\n\u001b[0;31m    self.max_stor_lev = 0.005\t# in MWh\u001b[0m\n\u001b[0m                             \t        ^\u001b[0m\n\u001b[0;31mTabError\u001b[0m\u001b[0;31m:\u001b[0m inconsistent use of tabs and spaces in indentation\n"
     ]
    }
   ],
   "source": [
    "env = gym.make('energy_storage-v0')"
   ]
  },
  {
   "cell_type": "code",
   "execution_count": null,
   "id": "485bf4fb",
   "metadata": {},
   "outputs": [],
   "source": []
  }
 ],
 "metadata": {
  "kernelspec": {
   "display_name": "Python 3 (ipykernel)",
   "language": "python",
   "name": "python3"
  },
  "language_info": {
   "codemirror_mode": {
    "name": "ipython",
    "version": 3
   },
   "file_extension": ".py",
   "mimetype": "text/x-python",
   "name": "python",
   "nbconvert_exporter": "python",
   "pygments_lexer": "ipython3",
   "version": "3.8.10"
  }
 },
 "nbformat": 4,
 "nbformat_minor": 5
}
